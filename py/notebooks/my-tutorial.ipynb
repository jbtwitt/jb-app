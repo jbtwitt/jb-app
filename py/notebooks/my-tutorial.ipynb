{
 "cells": [
  {
   "cell_type": "code",
   "execution_count": null,
   "metadata": {},
   "outputs": [],
   "source": [
    "# my tutorial"
   ]
  },
  {
   "cell_type": "code",
   "execution_count": 56,
   "metadata": {},
   "outputs": [],
   "source": [
    "import pandas as pd\n",
    "from pandas_datareader import data as pdr\n",
    "import numpy as np\n",
    "import matplotlib.pyplot as plt"
   ]
  },
  {
   "cell_type": "code",
   "execution_count": 2,
   "metadata": {},
   "outputs": [],
   "source": [
    "# pandas datareader\n",
    "symbol = 'WATT'\n",
    "df = pdr.DataReader(symbol, data_source='yahoo')"
   ]
  },
  {
   "cell_type": "code",
   "execution_count": 12,
   "metadata": {},
   "outputs": [],
   "source": [
    "# save to csv file\n",
    "df.to_csv('/tmp/' + symbol + '.csv')"
   ]
  },
  {
   "cell_type": "code",
   "execution_count": 16,
   "metadata": {},
   "outputs": [],
   "source": [
    "# read csv file\n",
    "df = pd.read_csv('/tmp/WATT.csv', index_col=[0], parse_dates=True)"
   ]
  },
  {
   "cell_type": "code",
   "execution_count": 17,
   "metadata": {},
   "outputs": [
    {
     "data": {
      "text/plain": [
       "(1258, 6)"
      ]
     },
     "execution_count": 17,
     "metadata": {},
     "output_type": "execute_result"
    }
   ],
   "source": [
    "# show data size\n",
    "df.shape"
   ]
  },
  {
   "cell_type": "code",
   "execution_count": 18,
   "metadata": {},
   "outputs": [],
   "source": [
    "# generate serial number\n",
    "df['No'] = [df.index.get_loc(idx) for idx in df.index]"
   ]
  },
  {
   "cell_type": "code",
   "execution_count": 28,
   "metadata": {},
   "outputs": [
    {
     "data": {
      "text/html": [
       "<div>\n",
       "<style scoped>\n",
       "    .dataframe tbody tr th:only-of-type {\n",
       "        vertical-align: middle;\n",
       "    }\n",
       "\n",
       "    .dataframe tbody tr th {\n",
       "        vertical-align: top;\n",
       "    }\n",
       "\n",
       "    .dataframe thead th {\n",
       "        text-align: right;\n",
       "    }\n",
       "</style>\n",
       "<table border=\"1\" class=\"dataframe\">\n",
       "  <thead>\n",
       "    <tr style=\"text-align: right;\">\n",
       "      <th></th>\n",
       "      <th>High</th>\n",
       "      <th>Low</th>\n",
       "      <th>Open</th>\n",
       "      <th>Close</th>\n",
       "      <th>Volume</th>\n",
       "      <th>Adj Close</th>\n",
       "      <th>No</th>\n",
       "    </tr>\n",
       "    <tr>\n",
       "      <th>Date</th>\n",
       "      <th></th>\n",
       "      <th></th>\n",
       "      <th></th>\n",
       "      <th></th>\n",
       "      <th></th>\n",
       "      <th></th>\n",
       "      <th></th>\n",
       "    </tr>\n",
       "  </thead>\n",
       "  <tbody>\n",
       "    <tr>\n",
       "      <th>2020-02-03</th>\n",
       "      <td>1.7</td>\n",
       "      <td>1.58</td>\n",
       "      <td>1.61</td>\n",
       "      <td>1.64</td>\n",
       "      <td>437000</td>\n",
       "      <td>1.64</td>\n",
       "      <td>999</td>\n",
       "    </tr>\n",
       "  </tbody>\n",
       "</table>\n",
       "</div>"
      ],
      "text/plain": [
       "            High   Low  Open  Close  Volume  Adj Close   No\n",
       "Date                                                       \n",
       "2020-02-03   1.7  1.58  1.61   1.64  437000       1.64  999"
      ]
     },
     "execution_count": 28,
     "metadata": {},
     "output_type": "execute_result"
    }
   ],
   "source": [
    "# filter rows\n",
    "df[df.No % 1000 == 999]"
   ]
  },
  {
   "cell_type": "code",
   "execution_count": 70,
   "metadata": {},
   "outputs": [
    {
     "data": {
      "text/plain": [
       "[12185400,\n",
       " 15985800,\n",
       " 7472000,\n",
       " 12331100,\n",
       " 16533600,\n",
       " 5081800,\n",
       " 15460200,\n",
       " 30043200,\n",
       " 10250000,\n",
       " 11816100,\n",
       " 12321300,\n",
       " 18863400,\n",
       " 12396200,\n",
       " 7991800,\n",
       " 5113000,\n",
       " 8739000,\n",
       " 5117300,\n",
       " 4706000,\n",
       " 5810300,\n",
       " 22206400,\n",
       " 9629000,\n",
       " 8650300,\n",
       " 7667500,\n",
       " 158102400,\n",
       " 61988500,\n",
       " 31198400,\n",
       " 18981700,\n",
       " 23376400,\n",
       " 10655800,\n",
       " 11654600,\n",
       " 7576300,\n",
       " 11280500,\n",
       " 9469200,\n",
       " 7759400,\n",
       " 9753500,\n",
       " 8775700,\n",
       " 70655900,\n",
       " 14813100,\n",
       " 31224800,\n",
       " 14248900,\n",
       " 9325100,\n",
       " 7973900,\n",
       " 5481600,\n",
       " 7925400,\n",
       " 4844900,\n",
       " 4344200,\n",
       " 5970300,\n",
       " 9288900,\n",
       " 15364800,\n",
       " 15540200,\n",
       " 11895600,\n",
       " 13100300,\n",
       " 159172200,\n",
       " 28942300,\n",
       " 70409200,\n",
       " 46069100,\n",
       " 31688300,\n",
       " 19804900,\n",
       " 19250900,\n",
       " 12547500,\n",
       " 69065700,\n",
       " 156425600,\n",
       " 100997765]"
      ]
     },
     "execution_count": 70,
     "metadata": {},
     "output_type": "execute_result"
    }
   ],
   "source": [
    "# split df into set of rows and sum Volume\n",
    "size = 20\n",
    "splits = [df.iloc[i:i+size-1,:].Volume.sum() for i in range(0, df.shape[0], size)]\n",
    "splits"
   ]
  },
  {
   "cell_type": "code",
   "execution_count": 67,
   "metadata": {},
   "outputs": [
    {
     "data": {
      "image/png": "[encoded data removed]",
      "text/plain": [
       "<Figure size 792x288 with 1 Axes>"
      ]
     },
     "metadata": {
      "needs_background": "light"
     },
     "output_type": "display_data"
    }
   ],
   "source": [
    "# bar chart\n",
    "plt.figure(figsize=[11, 4])\n",
    "plt.bar(range(0, len(splits)), height = np.array(splits)/1000000, label='Men')\n",
    "plt.show()"
   ]
  }
 ],
 "metadata": {
  "kernelspec": {
   "display_name": "Python (hq)",
   "language": "python",
   "name": "hq"
  },
  "language_info": {
   "codemirror_mode": {
    "name": "ipython",
    "version": 3
   },
   "file_extension": ".py",
   "mimetype": "text/x-python",
   "name": "python",
   "nbconvert_exporter": "python",
   "pygments_lexer": "ipython3",
   "version": "3.9.1"
  }
 },
 "nbformat": 4,
 "nbformat_minor": 4
}
