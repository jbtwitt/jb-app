{
 "cells": [
  {
   "cell_type": "code",
   "execution_count": 1,
   "metadata": {},
   "outputs": [],
   "source": [
    "import numpy as np"
   ]
  },
  {
   "cell_type": "code",
   "execution_count": 4,
   "metadata": {},
   "outputs": [],
   "source": [
    "# polygon vertix array (points are counter clockwise)\n",
    "# x array\n",
    "# y array\n",
    "def PolyArea(x, y):\n",
    "    return 0.5 * np.abs(np.dot(x,np.roll(y, 1)) - np.dot(y,np.roll(x, 1)))"
   ]
  },
  {
   "cell_type": "code",
   "execution_count": 10,
   "metadata": {},
   "outputs": [
    {
     "data": {
      "text/plain": [
       "4.0"
      ]
     },
     "execution_count": 10,
     "metadata": {},
     "output_type": "execute_result"
    }
   ],
   "source": [
    "x = np.arange(0, 2)\n",
    "#y = np.sqrt(1-x**2)\n",
    "#square (points are counter clockwise)\n",
    "x = [0, 2, 2, 0]\n",
    "y = [0, 0, 2, 2]\n",
    "PolyArea(x, y)"
   ]
  },
  {
   "cell_type": "code",
   "execution_count": 12,
   "metadata": {},
   "outputs": [
    {
     "data": {
      "text/plain": [
       "2.0"
      ]
     },
     "execution_count": 12,
     "metadata": {},
     "output_type": "execute_result"
    }
   ],
   "source": [
    "#triangle (points are counter clockwise)\n",
    "x = [0, 2, 1]\n",
    "y = [0, 0, 2]\n",
    "PolyArea(x, y)"
   ]
  }
 ],
 "metadata": {
  "kernelspec": {
   "display_name": "Python (hq)",
   "language": "python",
   "name": "hq"
  },
  "language_info": {
   "codemirror_mode": {
    "name": "ipython",
    "version": 3
   },
   "file_extension": ".py",
   "mimetype": "text/x-python",
   "name": "python",
   "nbconvert_exporter": "python",
   "pygments_lexer": "ipython3",
   "version": "3.8.5"
  }
 },
 "nbformat": 4,
 "nbformat_minor": 4
}
