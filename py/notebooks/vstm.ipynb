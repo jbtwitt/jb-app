{
 "cells": [
  {
   "cell_type": "code",
   "execution_count": null,
   "metadata": {},
   "outputs": [],
   "source": [
    "# import python lib\n",
    "from datetime import datetime, timedelta\n",
    "import pandas as pd\n",
    "from io import StringIO\n",
    "# set import path to my py\n",
    "import sys\n",
    "sys.path.append(\"..\")\n",
    "from HqYhoo import HqYhoo, DateFormat"
   ]
  },
  {
   "cell_type": "code",
   "execution_count": null,
   "metadata": {},
   "outputs": [],
   "source": [
    "# set up from / to dates\n",
    "hqDays = 250\n",
    "today = (datetime.now() + timedelta(days=1)).strftime(DateFormat)\n",
    "startDate = (datetime.now() + timedelta(days=-hqDays)).strftime(DateFormat)"
   ]
  },
  {
   "cell_type": "code",
   "execution_count": null,
   "metadata": {},
   "outputs": [],
   "source": [
    "# init download session\n",
    "hqRobot = HqYhoo()"
   ]
  },
  {
   "cell_type": "code",
   "execution_count": null,
   "metadata": {},
   "outputs": [],
   "source": [
    "# download\n",
    "csv = hqRobot.hqGet(\"VSTM\", startDate, today)\n",
    "csv = csv.decode(\"utf-8\")\n",
    "print(csv[0:100])"
   ]
  },
  {
   "cell_type": "code",
   "execution_count": null,
   "metadata": {},
   "outputs": [],
   "source": [
    "vstm = pd.DataFrame(StringIO(csv.decode(\"utf-8\")))\n",
    "vstm.head()"
   ]
  }
 ],
 "metadata": {
  "kernelspec": {
   "display_name": "Python 3",
   "language": "python",
   "name": "python3"
  },
  "language_info": {
   "codemirror_mode": {
    "name": "ipython",
    "version": 3
   },
   "file_extension": ".py",
   "mimetype": "text/x-python",
   "name": "python",
   "nbconvert_exporter": "python",
   "pygments_lexer": "ipython3",
   "version": "3.8.5"
  }
 },
 "nbformat": 4,
 "nbformat_minor": 4
}
