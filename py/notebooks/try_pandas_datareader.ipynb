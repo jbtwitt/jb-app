{
 "cells": [
  {
   "cell_type": "code",
   "execution_count": null,
   "metadata": {},
   "outputs": [],
   "source": [
    "#!pip install pandas-datareader # this command install for python2.7 but the jupyter kernel is python3\n",
    "#!pip3 install pandas-datareader\n",
    "#import sys\n",
    "#print(sys.executable)"
   ]
  },
  {
   "cell_type": "code",
   "execution_count": 1,
   "metadata": {},
   "outputs": [],
   "source": [
    "import numpy as np\n",
    "import pandas as pd\n",
    "import pandas_datareader as web\n",
    "import matplotlib.pyplot as plt\n",
    "from datetime import datetime"
   ]
  },
  {
   "cell_type": "code",
   "execution_count": 2,
   "metadata": {},
   "outputs": [
    {
     "data": {
      "text/plain": [
       "'2021-02-06'"
      ]
     },
     "execution_count": 2,
     "metadata": {},
     "output_type": "execute_result"
    }
   ],
   "source": [
    "plt.style.use('fivethirtyeight')\n",
    "today = datetime.now().strftime(\"%Y-%m-%d\")\n",
    "today"
   ]
  },
  {
   "cell_type": "code",
   "execution_count": null,
   "metadata": {
    "scrolled": true
   },
   "outputs": [],
   "source": [
    "# use pandas-datareader\n",
    "df = web.DataReader('VSTM', data_source='yahoo', start='2020-01-01', end=today)"
   ]
  },
  {
   "cell_type": "code",
   "execution_count": null,
   "metadata": {},
   "outputs": [],
   "source": [
    "# save to file\n",
    "# df.to_csv('vstm.csv')"
   ]
  },
  {
   "cell_type": "code",
   "execution_count": null,
   "metadata": {},
   "outputs": [],
   "source": [
    "# add columns from 1 day earlier row\n",
    "df['PrvClose'] = df.Close.shift(1)\n",
    "df['PrvLow'] = df.Low.shift(1)\n",
    "\n",
    "# verify download data\n",
    "df.head(3)\n",
    "df.tail(3)\n",
    "#df.dtypes"
   ]
  },
  {
   "cell_type": "code",
   "execution_count": null,
   "metadata": {},
   "outputs": [],
   "source": [
    "df.shape"
   ]
  },
  {
   "cell_type": "code",
   "execution_count": null,
   "metadata": {},
   "outputs": [],
   "source": [
    "# get subset of the dataset\n",
    "hqDays, _ = df.shape\n",
    "nDays = 60\n",
    "hqdata = df[hqDays - nDays:]\n",
    "hqdata.tail(3)"
   ]
  },
  {
   "cell_type": "code",
   "execution_count": null,
   "metadata": {},
   "outputs": [],
   "source": [
    "# plot line chart\n",
    "fig = plt.figure(figsize=[10, 4]) # width and height in inches\n",
    "ax = fig.add_subplot(111)\n",
    "ax.plot(range(nDays), hqdata['Low'], 'r', linewidth=1)\n",
    "plt.ylabel('Low Value')\n",
    "plt.xlabel('Last' + str(nDays) + 'Days')\n",
    "plt.show()"
   ]
  }
 ],
 "metadata": {
  "kernelspec": {
   "display_name": "Python (hq)",
   "language": "python",
   "name": "hq"
  },
  "language_info": {
   "codemirror_mode": {
    "name": "ipython",
    "version": 3
   },
   "file_extension": ".py",
   "mimetype": "text/x-python",
   "name": "python",
   "nbconvert_exporter": "python",
   "pygments_lexer": "ipython3",
   "version": "3.8.5"
  }
 },
 "nbformat": 4,
 "nbformat_minor": 4
}
